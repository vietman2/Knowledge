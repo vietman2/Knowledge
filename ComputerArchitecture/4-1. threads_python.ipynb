{
 "cells": [
  {
   "cell_type": "markdown",
   "metadata": {},
   "source": [
    "# Python으로 스레드 다루기\n",
    "\n",
    "## 코드로 스레드 만들기\n",
    "아래 코드로 프로세스 생성하고, 스레드를 만들 수 있다\n",
    "동일한 작업을 하는 스레드를 여러개 생성한다"
   ]
  },
  {
   "cell_type": "code",
   "execution_count": 2,
   "metadata": {},
   "outputs": [
    {
     "name": "stdout",
     "output_type": "stream",
     "text": [
      "process id 861\n",
      "process id 861\n",
      "thread id 891\n",
      "process id 861\n",
      "thread id 892\n",
      "process id 861\n",
      "thread id 893\n",
      "process id 861\n"
     ]
    }
   ],
   "source": [
    "import os\n",
    "import threading\n",
    "\n",
    "print('process id', os.getpid())\n",
    "\n",
    "def foo():\n",
    "    print('thread id', threading.get_native_id())\n",
    "    print('process id', os.getpid())\n",
    "\n",
    "if __name__ == '__main__':\n",
    "    print('process id', os.getpid())\n",
    "    thread = threading.Thread(target=foo).start()   # 스레드 생성\n",
    "    thread1 = threading.Thread(target=foo).start()   # 스레드 생성\n",
    "    thread2 = threading.Thread(target=foo).start()   # 스레드 생성\n"
   ]
  },
  {
   "cell_type": "markdown",
   "metadata": {},
   "source": [
    "## 서로 다른 작업 하는 스레드 만들어보기\n",
    "아래 코드로 서로 다른 작업을 하는 스레드를 만들고 실행해본다"
   ]
  },
  {
   "cell_type": "code",
   "execution_count": 3,
   "metadata": {},
   "outputs": [
    {
     "name": "stdout",
     "output_type": "stream",
     "text": [
      "thread 1\n",
      "thread 2\n",
      "thread 3\n"
     ]
    }
   ],
   "source": [
    "import os\n",
    "import threading\n",
    "\n",
    "def t1():\n",
    "    print(\"thread 1\")\n",
    "\n",
    "def t2():\n",
    "    print(\"thread 2\")\n",
    "\n",
    "def t3():\n",
    "    print(\"thread 3\")\n",
    "\n",
    "if __name__ == \"__main__\":\n",
    "    t1 = threading.Thread(target=t1).start()\n",
    "    t2 = threading.Thread(target=t2).start()\n",
    "    t3 = threading.Thread(target=t3).start()\n"
   ]
  }
 ],
 "metadata": {
  "kernelspec": {
   "display_name": "Python 3",
   "language": "python",
   "name": "python3"
  },
  "language_info": {
   "codemirror_mode": {
    "name": "ipython",
    "version": 3
   },
   "file_extension": ".py",
   "mimetype": "text/x-python",
   "name": "python",
   "nbconvert_exporter": "python",
   "pygments_lexer": "ipython3",
   "version": "3.8.10"
  },
  "orig_nbformat": 4
 },
 "nbformat": 4,
 "nbformat_minor": 2
}
