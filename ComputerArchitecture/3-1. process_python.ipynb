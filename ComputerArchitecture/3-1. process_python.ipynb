{
 "cells": [
  {
   "cell_type": "markdown",
   "metadata": {},
   "source": [
    "# 파이썬으로 프로세스 다루기\n",
    "\n",
    "## 프로세스 생성\n",
    "아래 코드로 프로세스를 만들어보고, PID를 확인해본다\n",
    "그 후, 자식 프로세스를 생성해보고, PID를 확인해본다"
   ]
  },
  {
   "cell_type": "code",
   "execution_count": null,
   "metadata": {},
   "outputs": [
    {
     "name": "stdout",
     "output_type": "stream",
     "text": [
      "hello 1027\n",
      "hello from child 1230"
     ]
    },
    {
     "name": "stdout",
     "output_type": "stream",
     "text": [
      "\n",
      "parent id is 1027\n"
     ]
    }
   ],
   "source": [
    "import os\n",
    "from multiprocessing import Process\n",
    "\n",
    "def child():\n",
    "    print('hello from child', os.getpid())\n",
    "    print('parent id is', os.getppid())\n",
    "\n",
    "if __name__ == '__main__':\n",
    "    print('hello', os.getpid())\n",
    "    p = Process(target=child).start()"
   ]
  }
 ],
 "metadata": {
  "kernelspec": {
   "display_name": "Python 3",
   "language": "python",
   "name": "python3"
  },
  "language_info": {
   "codemirror_mode": {
    "name": "ipython",
    "version": 3
   },
   "file_extension": ".py",
   "mimetype": "text/x-python",
   "name": "python",
   "nbconvert_exporter": "python",
   "pygments_lexer": "ipython3",
   "version": "3.8.10"
  },
  "orig_nbformat": 4
 },
 "nbformat": 4,
 "nbformat_minor": 2
}
