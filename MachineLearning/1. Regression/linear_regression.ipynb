{
 "cells": [
  {
   "cell_type": "code",
   "execution_count": 1,
   "metadata": {},
   "outputs": [],
   "source": [
    "# Regression\n",
    "# 파이썬의 머신러닝 라이브러리 scikit-learn\n",
    "# datasets 패키지에 시험용 데이터가 여러개 있는데 그 중 캘리포니아 집값 데이터를 사용\n",
    "\n",
    "from sklearn.datasets import fetch_california_housing\n",
    "from sklearn.linear_model import LinearRegression, Ridge, Lasso\n",
    "\n",
    "\n",
    "\n",
    "## 아래 코드는 어떤 방식의 머신러닝 모델을 사용해도 대부분 동일하게 사용 가능\n",
    "california = fetch_california_housing()\n",
    "X = california.data\n",
    "y = california.target\n",
    "\n",
    "## 데이터의 상세는 DESCR속성을 이용해 확인 가능\n",
    "## print(california_housing.DESCR)"
   ]
  },
  {
   "cell_type": "code",
   "execution_count": 2,
   "metadata": {},
   "outputs": [
    {
     "name": "stdout",
     "output_type": "stream",
     "text": [
      "Linear Regression\n",
      "MedInc :   0.44\n",
      "HouseAge:   0.01\n",
      "AveRooms:  -0.11\n",
      "AveBedrms:   0.65\n",
      "Population:  -0.00\n",
      "AveOccup:  -0.00\n",
      "Latitude:  -0.42\n",
      "Longitude:  -0.43\n",
      "coef = 0.98\n"
     ]
    }
   ],
   "source": [
    "## Linear Regression\n",
    "\n",
    "## 학습 인스턴스 생성\n",
    "lr1 = LinearRegression()\n",
    "## 인스턴스에 대해 학습하는 fit 메소드\n",
    "## 특징 벡터 집합 X, 정답 정보 y를 인수로 넣어줌\n",
    "lr1.fit(X, y)\n",
    "\n",
    "print(\"Linear Regression\")\n",
    "\n",
    "## 선형회귀식이 얻어지므로, 값을 예측하고 싶은 데이터를 인수로 해서 predict 메소드를 불러내면 예측값을 출력해준다.\n",
    "lr1.predict(X[:4, :])\n",
    "\n",
    "\n",
    "for f, w in zip(california.feature_names, lr1.coef_):\n",
    "    print(\"{0:7s}: {1:6.2f}\".format(f, w))\n",
    "\n",
    "print(\"coef = {0:4.2f}\".format(sum(lr1.coef_**2)))"
   ]
  },
  {
   "cell_type": "code",
   "execution_count": 3,
   "metadata": {},
   "outputs": [
    {
     "name": "stdout",
     "output_type": "stream",
     "text": [
      "\n",
      "Ridge Regression\n",
      "MedInc :   0.43\n",
      "HouseAge:   0.01\n",
      "AveRooms:  -0.10\n",
      "AveBedrms:   0.63\n",
      "Population:  -0.00\n",
      "AveOccup:  -0.00\n",
      "Latitude:  -0.42\n",
      "Longitude:  -0.43\n",
      "coef = 0.96\n"
     ]
    }
   ],
   "source": [
    "## Ridge 회귀\n",
    "## 동일한 순서를 리지 회귀로 해 본다\n",
    "lr2 = Ridge(alpha=20)\n",
    "lr2.fit(X, y)\n",
    "\n",
    "print(\"\\nRidge Regression\")\n",
    "\n",
    "for f, w in zip(california.feature_names, lr2.coef_):\n",
    "    print(\"{0:7s}: {1:6.2f}\".format(f, w))\n",
    "\n",
    "print(\"coef = {0:4.2f}\".format(sum(lr2.coef_**2)))"
   ]
  },
  {
   "cell_type": "code",
   "execution_count": 4,
   "metadata": {},
   "outputs": [
    {
     "name": "stdout",
     "output_type": "stream",
     "text": [
      "\n",
      "Lasso Regression\n",
      "MedInc :   0.40\n",
      "HouseAge:   0.01\n",
      "AveRooms:  -0.04\n",
      "AveBedrms:   0.27\n",
      "Population:  -0.00\n",
      "AveOccup:  -0.00\n",
      "Latitude:  -0.41\n",
      "Longitude:  -0.42\n",
      "coef = 0.58\n"
     ]
    }
   ],
   "source": [
    "## Lasso 회귀\n",
    "\n",
    "lr3 = Lasso(alpha=0.01)\n",
    "lr3.fit(X, y)\n",
    "\n",
    "print(\"\\nLasso Regression\")\n",
    "\n",
    "for f, w in zip(california.feature_names, lr3.coef_):\n",
    "    print(\"{0:7s}: {1:6.2f}\".format(f, w))\n",
    "\n",
    "print(\"coef = {0:4.2f}\".format(sum(lr3.coef_**2)))\n",
    "\n"
   ]
  }
 ],
 "metadata": {
  "kernelspec": {
   "display_name": "Python 3",
   "language": "python",
   "name": "python3"
  },
  "language_info": {
   "codemirror_mode": {
    "name": "ipython",
    "version": 3
   },
   "file_extension": ".py",
   "mimetype": "text/x-python",
   "name": "python",
   "nbconvert_exporter": "python",
   "pygments_lexer": "ipython3",
   "version": "3.8.10"
  },
  "orig_nbformat": 4
 },
 "nbformat": 4,
 "nbformat_minor": 2
}
