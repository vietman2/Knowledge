{
 "cells": [
  {
   "cell_type": "code",
   "execution_count": 1,
   "metadata": {},
   "outputs": [
    {
     "name": "stdout",
     "output_type": "stream",
     "text": [
      "mean radius            :   0.95\n",
      "mean texture           :   0.46\n",
      "mean perimeter         :   0.28\n",
      "mean area              :  -0.02\n",
      "mean smoothness        :  -0.04\n",
      "mean compactness       :  -0.17\n",
      "mean concavity         :  -0.23\n",
      "mean concave points    :  -0.10\n",
      "mean symmetry          :  -0.05\n",
      "mean fractal dimension :  -0.01\n",
      "radius error           :   0.04\n",
      "texture error          :   0.37\n",
      "perimeter error        :   0.14\n",
      "area error             :  -0.11\n",
      "smoothness error       :  -0.00\n",
      "compactness error      :  -0.04\n",
      "concavity error        :  -0.05\n",
      "concave points error   :  -0.01\n",
      "symmetry error         :  -0.01\n",
      "fractal dimension error:  -0.00\n",
      "worst radius           :   1.01\n",
      "worst texture          :  -0.50\n",
      "worst perimeter        :  -0.25\n",
      "worst area             :  -0.01\n",
      "worst smoothness       :  -0.06\n",
      "worst compactness      :  -0.52\n",
      "worst concavity        :  -0.64\n",
      "worst concave points   :  -0.19\n",
      "worst symmetry         :  -0.15\n",
      "worst fractal dimension:  -0.05\n",
      "Accuracy: 0.95\n"
     ]
    },
    {
     "name": "stderr",
     "output_type": "stream",
     "text": [
      "/home/vietman2/.local/lib/python3.8/site-packages/sklearn/linear_model/_logistic.py:458: ConvergenceWarning: lbfgs failed to converge (status=1):\n",
      "STOP: TOTAL NO. of ITERATIONS REACHED LIMIT.\n",
      "\n",
      "Increase the number of iterations (max_iter) or scale the data as shown in:\n",
      "    https://scikit-learn.org/stable/modules/preprocessing.html\n",
      "Please also refer to the documentation for alternative solver options:\n",
      "    https://scikit-learn.org/stable/modules/linear_model.html#logistic-regression\n",
      "  n_iter_i = _check_optimize_result(\n"
     ]
    }
   ],
   "source": [
    "from sklearn.datasets import load_breast_cancer\n",
    "from sklearn.linear_model import LogisticRegression\n",
    "\n",
    "## 종양의 악성, 양성을 판단하는 breast_cancer 데이터\n",
    "breast_cancer = load_breast_cancer()\n",
    "X = breast_cancer.data\n",
    "y = breast_cancer.target\n",
    "\n",
    "## 회귀도 분류도 기본적으로 클래스의 인스턴스를 만들어 fit 메소드로 학습시킨다.\n",
    "## 로지스틱 분류\n",
    "clf = LogisticRegression()\n",
    "clf.fit(X, y)\n",
    "\n",
    "for f, w in zip(breast_cancer.feature_names, clf.coef_[0]):\n",
    "    print(\"{0:23}: {1:6.2f}\".format(f, w))\n",
    "\n",
    "print(\"Accuracy: {:.2f}\".format(clf.score(X, y)))"
   ]
  }
 ],
 "metadata": {
  "kernelspec": {
   "display_name": "Python 3",
   "language": "python",
   "name": "python3"
  },
  "language_info": {
   "codemirror_mode": {
    "name": "ipython",
    "version": 3
   },
   "file_extension": ".py",
   "mimetype": "text/x-python",
   "name": "python",
   "nbconvert_exporter": "python",
   "pygments_lexer": "ipython3",
   "version": "3.8.10"
  },
  "orig_nbformat": 4
 },
 "nbformat": 4,
 "nbformat_minor": 2
}
