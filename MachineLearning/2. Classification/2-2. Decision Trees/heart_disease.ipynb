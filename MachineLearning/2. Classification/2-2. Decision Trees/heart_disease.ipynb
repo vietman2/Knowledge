{
 "cells": [
  {
   "cell_type": "code",
   "execution_count": 2,
   "metadata": {},
   "outputs": [],
   "source": [
    "import numpy as np\n",
    "import pandas as pd\n",
    "from sklearn import metrics\n",
    "from sklearn.model_selection import train_test_split\n",
    "from sklearn.tree import DecisionTreeClassifier\n",
    "\n",
    "# 데이터 불러오기\n",
    "df_train = pd.read_csv('./heart_disease_train.csv')\n",
    "df_test = pd.read_csv('./heart_disease_test.csv')\n",
    "\n",
    "X_train = []\n",
    "y_train = []\n",
    "\n",
    "# 학습데이터 전처리\n",
    "for row in df_train.iterrows():\n",
    "    label = row[1][0]\n",
    "    image = list(row[1][1:])\n",
    "    image = np.array(image)/255\n",
    "    X_train.append(image)\n",
    "    y_train.append(label)\n",
    "\n",
    "X_train = np.array(X_train)\n",
    "y_train = np.array(y_train)"
   ]
  },
  {
   "cell_type": "code",
   "execution_count": 3,
   "metadata": {},
   "outputs": [
    {
     "name": "stdout",
     "output_type": "stream",
     "text": [
      "[0. 0. 0. 0. 0. 1. 0. 0. 0. 0. 1. 0. 1. 0. 0. 1. 1. 0. 1. 1.] .....\n",
      "[0. 0. 0. 0. 0. 1. 0. 0. 0. 0. 1. 0. 1. 0. 0. 1. 1. 0. 1. 1.] .....\n",
      "1.0\n"
     ]
    }
   ],
   "source": [
    "clf = DecisionTreeClassifier()\n",
    "clf.fit(X_train, y_train)\n",
    "y_pred = clf.predict(X_train)\n",
    "\n",
    "print(y_pred[0:20], \".....\")\n",
    "print(y_train[0:20], \".....\")\n",
    "print(metrics.accuracy_score(y_train, y_pred))\n",
    "\n",
    "## 학습데이터에 대한 예측 정확도는 100%가 나올 것이다."
   ]
  },
  {
   "cell_type": "code",
   "execution_count": 4,
   "metadata": {},
   "outputs": [
    {
     "name": "stdout",
     "output_type": "stream",
     "text": [
      "[0. 1. 0. 0. 1. 0. 1. 1. 0. 0. 0. 0. 0. 1. 0. 0. 0. 1. 0. 0.] .....\n",
      "[0. 1. 0. 0. 1. 0. 1. 1. 0. 0. 0. 0. 0. 1. 0. 0. 0. 1. 0. 0.] .....\n",
      "1.0\n"
     ]
    }
   ],
   "source": [
    "X_test = []\n",
    "y_test = []\n",
    "\n",
    "# 테스트데이터 전처리\n",
    "for row in df_test.iterrows():\n",
    "    label = row[1][0]\n",
    "    image = list(row[1][1:])\n",
    "    image = np.array(image)/255\n",
    "    X_test.append(image)\n",
    "    y_test.append(label)\n",
    "\n",
    "X_test = np.array(X_test)\n",
    "y_test = np.array(y_test)\n",
    "\n",
    "y_pred = clf.predict(X_test)\n",
    "\n",
    "print(y_pred[0:20], \".....\")\n",
    "print(y_test[0:20], \".....\")\n",
    "print(metrics.accuracy_score(y_test, y_pred))\n",
    "\n",
    "# 테스트데이터에 대한 예측 정확도 역시 100%가 나온다"
   ]
  }
 ],
 "metadata": {
  "kernelspec": {
   "display_name": "Python 3",
   "language": "python",
   "name": "python3"
  },
  "language_info": {
   "codemirror_mode": {
    "name": "ipython",
    "version": 3
   },
   "file_extension": ".py",
   "mimetype": "text/x-python",
   "name": "python",
   "nbconvert_exporter": "python",
   "pygments_lexer": "ipython3",
   "version": "3.8.10"
  },
  "orig_nbformat": 4
 },
 "nbformat": 4,
 "nbformat_minor": 2
}
